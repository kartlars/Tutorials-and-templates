{
  "nbformat": 4,
  "nbformat_minor": 0,
  "metadata": {
    "colab": {
      "name": "Intro to Google Colab for Data Analytics",
      "provenance": [],
      "authorship_tag": "ABX9TyN0iE1A/ACXxfwmOcJtOxYe",
      "include_colab_link": true
    },
    "kernelspec": {
      "name": "python3",
      "display_name": "Python 3"
    }
  },
  "cells": [
    {
      "cell_type": "markdown",
      "metadata": {
        "id": "view-in-github",
        "colab_type": "text"
      },
      "source": [
        "<a href=\"https://colab.research.google.com/github/kartlars/Tutorials-and-templates/blob/master/Intro_to_Google_Colab_for_Data_Analytics.ipynb\" target=\"_parent\"><img src=\"https://colab.research.google.com/assets/colab-badge.svg\" alt=\"Open In Colab\"/></a>"
      ]
    },
    {
      "cell_type": "code",
      "metadata": {
        "id": "-bAN8hycErmA",
        "colab_type": "code",
        "colab": {
          "base_uri": "https://localhost:8080/",
          "height": 187
        },
        "outputId": "57a039a9-f375-4668-e9ea-d1e69016ae69"
      },
      "source": [
        "%%shell\n",
        "# see information about hardware its running on\n",
        "# comands with %% are magic and allow to mix Python code with other languages\n",
        "\n",
        "cat /proc/cpuinfo |& head -10"
      ],
      "execution_count": 4,
      "outputs": [
        {
          "output_type": "stream",
          "text": [
            "processor\t: 0\n",
            "vendor_id\t: GenuineIntel\n",
            "cpu family\t: 6\n",
            "model\t\t: 79\n",
            "model name\t: Intel(R) Xeon(R) CPU @ 2.20GHz\n",
            "stepping\t: 0\n",
            "microcode\t: 0x1\n",
            "cpu MHz\t\t: 2200.138\n",
            "cache size\t: 56320 KB\n",
            "physical id\t: 0\n"
          ],
          "name": "stdout"
        },
        {
          "output_type": "execute_result",
          "data": {
            "text/plain": [
              ""
            ]
          },
          "metadata": {
            "tags": []
          },
          "execution_count": 4
        }
      ]
    },
    {
      "cell_type": "code",
      "metadata": {
        "id": "7iE9lErlJc1z",
        "colab_type": "code",
        "colab": {
          "base_uri": "https://localhost:8080/",
          "height": 178
        },
        "outputId": "6a89d40e-ac6f-4815-e2e9-79b7c163ba75"
      },
      "source": [
        "%%html\n",
        "<html>\n",
        "<body>\n",
        "\n",
        "<h1>My first SVG</h1>\n",
        "\n",
        "<svg width=\"100\" height=\"100\">\n",
        "  <circle cx=\"50\" cy=\"50\" r=\"40\" stroke=\"green\" stroke-width=\"4\" fill=\"yellow\" />\n",
        "</svg>\n",
        "\n",
        "</body>\n",
        "</html>"
      ],
      "execution_count": 24,
      "outputs": [
        {
          "output_type": "display_data",
          "data": {
            "text/html": [
              "<html>\n",
              "<body>\n",
              "\n",
              "<h1>My first SVG</h1>\n",
              "\n",
              "<svg width=\"100\" height=\"100\">\n",
              "  <circle cx=\"50\" cy=\"50\" r=\"40\" stroke=\"green\" stroke-width=\"4\" fill=\"yellow\" />\n",
              "</svg>\n",
              "\n",
              "</body>\n",
              "</html>"
            ],
            "text/plain": [
              "<IPython.core.display.HTML object>"
            ]
          },
          "metadata": {
            "tags": []
          }
        }
      ]
    },
    {
      "cell_type": "code",
      "metadata": {
        "id": "JqKO4XtLIDmA",
        "colab_type": "code",
        "colab": {
          "base_uri": "https://localhost:8080/",
          "height": 306
        },
        "outputId": "e3437554-1686-4f04-e7ed-4583ece0cdee"
      },
      "source": [
        "%%time\n",
        "# to see how long the algorithm runs\n",
        "\n",
        "def iterate_n(n):\n",
        "  for i in range(n):\n",
        "    print(i)\n",
        "iterate_n(15)"
      ],
      "execution_count": 5,
      "outputs": [
        {
          "output_type": "stream",
          "text": [
            "0\n",
            "1\n",
            "2\n",
            "3\n",
            "4\n",
            "5\n",
            "6\n",
            "7\n",
            "8\n",
            "9\n",
            "10\n",
            "11\n",
            "12\n",
            "13\n",
            "14\n",
            "CPU times: user 1.5 ms, sys: 920 µs, total: 2.42 ms\n",
            "Wall time: 2.1 ms\n"
          ],
          "name": "stdout"
        }
      ]
    },
    {
      "cell_type": "code",
      "metadata": {
        "id": "PLsj7f4TGe2u",
        "colab_type": "code",
        "colab": {
          "base_uri": "https://localhost:8080/",
          "height": 119
        },
        "outputId": "dd550a19-732f-4371-c98a-b3478e0bc15d"
      },
      "source": [
        "#form starter will render interactive form\n",
        "#@title Vorlage {run: \"auto\"}\n",
        "input_value =  11 #@param\n",
        "\n",
        "#form items\n",
        "slider = 5 #@param {type: \"slider\", min: 2, max:10, step:1}\n",
        "print(iterate_n(slider))"
      ],
      "execution_count": 30,
      "outputs": [
        {
          "output_type": "stream",
          "text": [
            "0\n",
            "1\n",
            "2\n",
            "3\n",
            "4\n",
            "None\n"
          ],
          "name": "stdout"
        }
      ]
    },
    {
      "cell_type": "code",
      "metadata": {
        "id": "JZIwd-t6OsEM",
        "colab_type": "code",
        "colab": {}
      },
      "source": [
        ""
      ],
      "execution_count": 0,
      "outputs": []
    },
    {
      "cell_type": "code",
      "metadata": {
        "id": "VT81oMkgNItk",
        "colab_type": "code",
        "colab": {}
      },
      "source": [
        ""
      ],
      "execution_count": 0,
      "outputs": []
    }
  ]
}