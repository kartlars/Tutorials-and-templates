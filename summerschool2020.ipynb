{
  "nbformat": 4,
  "nbformat_minor": 0,
  "metadata": {
    "colab": {
      "name": "summerschool2020.ipynb",
      "provenance": [],
      "authorship_tag": "ABX9TyMWM/PzIGs9e07Y8WbTyrYr",
      "include_colab_link": true
    },
    "kernelspec": {
      "name": "python3",
      "display_name": "Python 3"
    }
  },
  "cells": [
    {
      "cell_type": "markdown",
      "metadata": {
        "id": "view-in-github",
        "colab_type": "text"
      },
      "source": [
        "<a href=\"https://colab.research.google.com/github/kartlars/Tutorials-and-templates/blob/master/summerschool2020.ipynb\" target=\"_parent\"><img src=\"https://colab.research.google.com/assets/colab-badge.svg\" alt=\"Open In Colab\"/></a>"
      ]
    },
    {
      "cell_type": "code",
      "metadata": {
        "id": "dP3euS0fnKNf",
        "colab_type": "code",
        "colab": {
          "base_uri": "https://localhost:8080/",
          "height": 122
        },
        "outputId": "61fe1f12-2cbf-4bc0-c70a-1fca94109e1a"
      },
      "source": [
        "# connect google drive with colab\n",
        "from google.colab import drive\n",
        "drive.mount('/content/drive')"
      ],
      "execution_count": null,
      "outputs": [
        {
          "output_type": "stream",
          "text": [
            "Go to this URL in a browser: https://accounts.google.com/o/oauth2/auth?client_id=947318989803-6bn6qk8qdgf4n4g3pfee6491hc0brc4i.apps.googleusercontent.com&redirect_uri=urn%3aietf%3awg%3aoauth%3a2.0%3aoob&scope=email%20https%3a%2f%2fwww.googleapis.com%2fauth%2fdocs.test%20https%3a%2f%2fwww.googleapis.com%2fauth%2fdrive%20https%3a%2f%2fwww.googleapis.com%2fauth%2fdrive.photos.readonly%20https%3a%2f%2fwww.googleapis.com%2fauth%2fpeopleapi.readonly&response_type=code\n",
            "\n",
            "Enter your authorization code:\n",
            "··········\n",
            "Mounted at /content/drive\n"
          ],
          "name": "stdout"
        }
      ]
    },
    {
      "cell_type": "code",
      "metadata": {
        "id": "NwFHI3_jnMd3",
        "colab_type": "code",
        "colab": {}
      },
      "source": [
        "# Provide your path to the training data (same for test data)\n",
        "data_dir = '/content/drive/My Drive/Programmier Projekte/summerschool2020/Robot_Data/train'"
      ],
      "execution_count": null,
      "outputs": []
    },
    {
      "cell_type": "code",
      "metadata": {
        "id": "rqKKuvA5n3FZ",
        "colab_type": "code",
        "colab": {}
      },
      "source": [
        "import os\n",
        "import pandas\n",
        "\n",
        "train = []\n",
        "for file in os.listdir(data_dir):\n",
        "    # Read a single file as pandas DataFrame\n",
        "    df = pandas.read_csv(os.path.join(data_dir, file))\n",
        "    frames = []\n",
        "    # Generate a single frame for each row\n",
        "    for index, row in df.T.items():\n",
        "        # Create dictionary with constant values (i.e. labels and frame number)\n",
        "        frame = {col: row[col] for col in df.columns if col != 'data'}\n",
        "        # Create pandas.DataFrame from Json String located in the 'data' column\n",
        "        frame['data']  = pandas.read_json(row['data'])\n",
        "        frames.append(frame)\n",
        "    train.append(frames)"
      ],
      "execution_count": null,
      "outputs": []
    },
    {
      "cell_type": "code",
      "metadata": {
        "id": "MjiB1m6ZvwKV",
        "colab_type": "code",
        "colab": {
          "base_uri": "https://localhost:8080/",
          "height": 221
        },
        "outputId": "9ac44845-fd73-40c1-a520-a8d4b1ea8177"
      },
      "source": [
        "# shows sensor data of one frame\n",
        "train[1][2][\"data\"][\"r\"]"
      ],
      "execution_count": null,
      "outputs": [
        {
          "output_type": "execute_result",
          "data": {
            "text/plain": [
              "0      -81.0\n",
              "1      -92.0\n",
              "2      -72.0\n",
              "3      -77.0\n",
              "4      -86.0\n",
              "       ...  \n",
              "336      NaN\n",
              "337    -89.0\n",
              "338      NaN\n",
              "339    -93.0\n",
              "340   -103.0\n",
              "Name: r, Length: 341, dtype: float64"
            ]
          },
          "metadata": {
            "tags": []
          },
          "execution_count": 75
        }
      ]
    },
    {
      "cell_type": "code",
      "metadata": {
        "id": "OYq7yBaC9e2y",
        "colab_type": "code",
        "colab": {
          "base_uri": "https://localhost:8080/",
          "height": 281
        },
        "outputId": "6fe01b15-601f-4d10-c4bf-8ae453031f41"
      },
      "source": [
        "import numpy as np\n",
        "from matplotlib import pyplot as plt\n",
        "\n",
        "plt.plot(train[1][2][\"data\"][\"r\"])\n",
        "\n",
        "plt.title(\"Sample Visualization\")\n",
        "plt.show()"
      ],
      "execution_count": null,
      "outputs": [
        {
          "output_type": "display_data",
          "data": {
            "image/png": "[encoded data removed]",
            "text/plain": [
              "<Figure size 432x288 with 1 Axes>"
            ]
          },
          "metadata": {
            "tags": [],
            "needs_background": "light"
          }
        }
      ]
    },
    {
      "cell_type": "code",
      "metadata": {
        "id": "_g7yiHIQ4ldp",
        "colab_type": "code",
        "colab": {}
      },
      "source": [
        ""
      ],
      "execution_count": null,
      "outputs": []
    }
  ]
}